{
 "cells": [
  {
   "cell_type": "code",
   "execution_count": 113,
   "metadata": {},
   "outputs": [],
   "source": [
    "import matplotlib.pyplot as plt\n",
    "import numpy as np\n",
    "import pandas as pd"
   ]
  },
  {
   "cell_type": "markdown",
   "metadata": {},
   "source": [
    "### DAY 4: Pandas Tasks"
   ]
  },
  {
   "cell_type": "code",
   "execution_count": 114,
   "metadata": {},
   "outputs": [
    {
     "data": {
      "text/html": [
       "<div>\n",
       "<style scoped>\n",
       "    .dataframe tbody tr th:only-of-type {\n",
       "        vertical-align: middle;\n",
       "    }\n",
       "\n",
       "    .dataframe tbody tr th {\n",
       "        vertical-align: top;\n",
       "    }\n",
       "\n",
       "    .dataframe thead th {\n",
       "        text-align: right;\n",
       "    }\n",
       "</style>\n",
       "<table border=\"1\" class=\"dataframe\">\n",
       "  <thead>\n",
       "    <tr style=\"text-align: right;\">\n",
       "      <th></th>\n",
       "      <th>Company Name</th>\n",
       "      <th>company contact</th>\n",
       "      <th>company email</th>\n",
       "      <th>company phone</th>\n",
       "      <th>Address</th>\n",
       "      <th>City</th>\n",
       "      <th>State</th>\n",
       "      <th>Postcode</th>\n",
       "      <th>Industry</th>\n",
       "      <th>Industry descr</th>\n",
       "      <th>...</th>\n",
       "      <th>Savings from beginning receiving benefits</th>\n",
       "      <th>Borough</th>\n",
       "      <th>Latitude</th>\n",
       "      <th>Longitude</th>\n",
       "      <th>Community Board</th>\n",
       "      <th>Council District</th>\n",
       "      <th>Census Tract</th>\n",
       "      <th>BIN</th>\n",
       "      <th>BBL</th>\n",
       "      <th>NTA</th>\n",
       "    </tr>\n",
       "  </thead>\n",
       "  <tbody>\n",
       "    <tr>\n",
       "      <th>0</th>\n",
       "      <td>1 State Street</td>\n",
       "      <td>David Neiburg</td>\n",
       "      <td>eskoblo@energyspec.com</td>\n",
       "      <td>7186779077</td>\n",
       "      <td>1114 Avenue J</td>\n",
       "      <td>Brooklyn</td>\n",
       "      <td>NY</td>\n",
       "      <td>11230</td>\n",
       "      <td>Commercial</td>\n",
       "      <td>35 story building</td>\n",
       "      <td>...</td>\n",
       "      <td>349.78</td>\n",
       "      <td>Brooklyn</td>\n",
       "      <td>40.624784</td>\n",
       "      <td>-73.964920</td>\n",
       "      <td>314.0</td>\n",
       "      <td>44.0</td>\n",
       "      <td>534.0</td>\n",
       "      <td>3179818.0</td>\n",
       "      <td>3.067130e+09</td>\n",
       "      <td>Midwood</td>\n",
       "    </tr>\n",
       "    <tr>\n",
       "      <th>1</th>\n",
       "      <td>100 Church LLC</td>\n",
       "      <td>Edward A. Carroll</td>\n",
       "      <td>NaN</td>\n",
       "      <td>2125663000</td>\n",
       "      <td>100 Church Street</td>\n",
       "      <td>NY</td>\n",
       "      <td>NY</td>\n",
       "      <td>10007</td>\n",
       "      <td>Commercial</td>\n",
       "      <td>21 Floors</td>\n",
       "      <td>...</td>\n",
       "      <td>4423698.05</td>\n",
       "      <td>New York</td>\n",
       "      <td>40.712968</td>\n",
       "      <td>-74.009490</td>\n",
       "      <td>101.0</td>\n",
       "      <td>1.0</td>\n",
       "      <td>21.0</td>\n",
       "      <td>1001409.0</td>\n",
       "      <td>1.001250e+09</td>\n",
       "      <td>SoHo-TriBeCa-Civic Center-Little Italy</td>\n",
       "    </tr>\n",
       "    <tr>\n",
       "      <th>2</th>\n",
       "      <td>100 Wall Investments</td>\n",
       "      <td>Jerry Branam</td>\n",
       "      <td>NaN</td>\n",
       "      <td>2122487160</td>\n",
       "      <td>96 Wall Street</td>\n",
       "      <td>New York</td>\n",
       "      <td>NY</td>\n",
       "      <td>10005</td>\n",
       "      <td>Landlord</td>\n",
       "      <td>NaN</td>\n",
       "      <td>...</td>\n",
       "      <td>1814542.62</td>\n",
       "      <td>New York</td>\n",
       "      <td>40.705052</td>\n",
       "      <td>-74.007199</td>\n",
       "      <td>101.0</td>\n",
       "      <td>1.0</td>\n",
       "      <td>7.0</td>\n",
       "      <td>1000875.0</td>\n",
       "      <td>1.000380e+09</td>\n",
       "      <td>Battery Park City-Lower Manhattan</td>\n",
       "    </tr>\n",
       "    <tr>\n",
       "      <th>3</th>\n",
       "      <td>1-10 Bush Terminal Owner LP</td>\n",
       "      <td>Andrew Kimball</td>\n",
       "      <td>akimball@industrycity.com</td>\n",
       "      <td>3474178429</td>\n",
       "      <td>220 36th St, Suite 2A</td>\n",
       "      <td>Brooklyn</td>\n",
       "      <td>NY</td>\n",
       "      <td>11232</td>\n",
       "      <td>Landlord</td>\n",
       "      <td>Special Eligible Premises for eligible businesses</td>\n",
       "      <td>...</td>\n",
       "      <td>6755.31</td>\n",
       "      <td>Brooklyn</td>\n",
       "      <td>40.656061</td>\n",
       "      <td>-74.007334</td>\n",
       "      <td>307.0</td>\n",
       "      <td>38.0</td>\n",
       "      <td>2.0</td>\n",
       "      <td>3398687.0</td>\n",
       "      <td>3.006950e+09</td>\n",
       "      <td>Sunset Park West</td>\n",
       "    </tr>\n",
       "    <tr>\n",
       "      <th>4</th>\n",
       "      <td>120 Broadway Acquisitions JV, LLC (Ldmk)</td>\n",
       "      <td>Carl Letich</td>\n",
       "      <td>clettich@silvprop.com</td>\n",
       "      <td>2124064020</td>\n",
       "      <td>120 Broadway</td>\n",
       "      <td>New York</td>\n",
       "      <td>NY</td>\n",
       "      <td>10271</td>\n",
       "      <td>Commercial</td>\n",
       "      <td>NaN</td>\n",
       "      <td>...</td>\n",
       "      <td>3293055.08</td>\n",
       "      <td>New York</td>\n",
       "      <td>40.708546</td>\n",
       "      <td>-74.011041</td>\n",
       "      <td>101.0</td>\n",
       "      <td>1.0</td>\n",
       "      <td>7.0</td>\n",
       "      <td>1001026.0</td>\n",
       "      <td>1.000478e+09</td>\n",
       "      <td>Battery Park City-Lower Manhattan</td>\n",
       "    </tr>\n",
       "  </tbody>\n",
       "</table>\n",
       "<p>5 rows × 26 columns</p>\n",
       "</div>"
      ],
      "text/plain": [
       "                               Company Name    company contact  \\\n",
       "0                            1 State Street      David Neiburg   \n",
       "1                            100 Church LLC  Edward A. Carroll   \n",
       "2                      100 Wall Investments       Jerry Branam   \n",
       "3               1-10 Bush Terminal Owner LP     Andrew Kimball   \n",
       "4  120 Broadway Acquisitions JV, LLC (Ldmk)        Carl Letich   \n",
       "\n",
       "               company email company phone                Address      City  \\\n",
       "0     eskoblo@energyspec.com    7186779077          1114 Avenue J  Brooklyn   \n",
       "1                        NaN    2125663000      100 Church Street        NY   \n",
       "2                        NaN    2122487160         96 Wall Street  New York   \n",
       "3  akimball@industrycity.com    3474178429  220 36th St, Suite 2A  Brooklyn   \n",
       "4      clettich@silvprop.com    2124064020           120 Broadway  New York   \n",
       "\n",
       "  State  Postcode    Industry  \\\n",
       "0    NY     11230  Commercial   \n",
       "1    NY     10007  Commercial   \n",
       "2    NY     10005    Landlord   \n",
       "3    NY     11232    Landlord   \n",
       "4    NY     10271  Commercial   \n",
       "\n",
       "                                      Industry descr  ...  \\\n",
       "0                                  35 story building  ...   \n",
       "1                                          21 Floors  ...   \n",
       "2                                                NaN  ...   \n",
       "3  Special Eligible Premises for eligible businesses  ...   \n",
       "4                                                NaN  ...   \n",
       "\n",
       "  Savings from beginning receiving benefits   Borough   Latitude  Longitude  \\\n",
       "0                                    349.78  Brooklyn  40.624784 -73.964920   \n",
       "1                                4423698.05  New York  40.712968 -74.009490   \n",
       "2                                1814542.62  New York  40.705052 -74.007199   \n",
       "3                                   6755.31  Brooklyn  40.656061 -74.007334   \n",
       "4                                3293055.08  New York  40.708546 -74.011041   \n",
       "\n",
       "  Community Board  Council District  Census Tract        BIN           BBL  \\\n",
       "0           314.0              44.0         534.0  3179818.0  3.067130e+09   \n",
       "1           101.0               1.0          21.0  1001409.0  1.001250e+09   \n",
       "2           101.0               1.0           7.0  1000875.0  1.000380e+09   \n",
       "3           307.0              38.0           2.0  3398687.0  3.006950e+09   \n",
       "4           101.0               1.0           7.0  1001026.0  1.000478e+09   \n",
       "\n",
       "                                      NTA  \n",
       "0                                 Midwood  \n",
       "1  SoHo-TriBeCa-Civic Center-Little Italy  \n",
       "2       Battery Park City-Lower Manhattan  \n",
       "3                        Sunset Park West  \n",
       "4       Battery Park City-Lower Manhattan  \n",
       "\n",
       "[5 rows x 26 columns]"
      ]
     },
     "execution_count": 114,
     "metadata": {},
     "output_type": "execute_result"
    }
   ],
   "source": [
    "df = pd.read_csv('data/value_energy_cost_savings_2020.csv')\n",
    "df.head()"
   ]
  },
  {
   "cell_type": "code",
   "execution_count": 115,
   "metadata": {},
   "outputs": [
    {
     "name": "stdout",
     "output_type": "stream",
     "text": [
      "<class 'pandas.core.frame.DataFrame'>\n",
      "RangeIndex: 450 entries, 0 to 449\n",
      "Data columns (total 26 columns):\n",
      " #   Column                                     Non-Null Count  Dtype  \n",
      "---  ------                                     --------------  -----  \n",
      " 0   Company Name                               450 non-null    object \n",
      " 1   company contact                            450 non-null    object \n",
      " 2   company email                              433 non-null    object \n",
      " 3   company phone                              450 non-null    object \n",
      " 4   Address                                    450 non-null    object \n",
      " 5   City                                       450 non-null    object \n",
      " 6   State                                      450 non-null    object \n",
      " 7   Postcode                                   450 non-null    int64  \n",
      " 8   Industry                                   450 non-null    object \n",
      " 9   Industry descr                             434 non-null    object \n",
      " 10  Company Type                               450 non-null    object \n",
      " 11  Current fulltime                           446 non-null    float64\n",
      " 12  Job created                                11 non-null     float64\n",
      " 13  Job retain                                 14 non-null     float64\n",
      " 14  Effective Date                             450 non-null    object \n",
      " 15  Total Savings                              450 non-null    float64\n",
      " 16  Savings from beginning receiving benefits  450 non-null    float64\n",
      " 17  Borough                                    450 non-null    object \n",
      " 18  Latitude                                   409 non-null    float64\n",
      " 19  Longitude                                  409 non-null    float64\n",
      " 20  Community Board                            409 non-null    float64\n",
      " 21  Council District                           409 non-null    float64\n",
      " 22  Census Tract                               409 non-null    float64\n",
      " 23  BIN                                        401 non-null    float64\n",
      " 24  BBL                                        401 non-null    float64\n",
      " 25  NTA                                        409 non-null    object \n",
      "dtypes: float64(12), int64(1), object(13)\n",
      "memory usage: 91.5+ KB\n"
     ]
    }
   ],
   "source": [
    "df.info()"
   ]
  },
  {
   "cell_type": "code",
   "execution_count": 116,
   "metadata": {},
   "outputs": [
    {
     "data": {
      "text/html": [
       "<div>\n",
       "<style scoped>\n",
       "    .dataframe tbody tr th:only-of-type {\n",
       "        vertical-align: middle;\n",
       "    }\n",
       "\n",
       "    .dataframe tbody tr th {\n",
       "        vertical-align: top;\n",
       "    }\n",
       "\n",
       "    .dataframe thead th {\n",
       "        text-align: right;\n",
       "    }\n",
       "</style>\n",
       "<table border=\"1\" class=\"dataframe\">\n",
       "  <thead>\n",
       "    <tr style=\"text-align: right;\">\n",
       "      <th></th>\n",
       "      <th>count</th>\n",
       "      <th>mean</th>\n",
       "      <th>std</th>\n",
       "      <th>min</th>\n",
       "      <th>25%</th>\n",
       "      <th>50%</th>\n",
       "      <th>75%</th>\n",
       "      <th>max</th>\n",
       "    </tr>\n",
       "  </thead>\n",
       "  <tbody>\n",
       "    <tr>\n",
       "      <th>Postcode</th>\n",
       "      <td>450.0</td>\n",
       "      <td>1.102412e+04</td>\n",
       "      <td>4.051267e+02</td>\n",
       "      <td>1.000100e+04</td>\n",
       "      <td>1.110100e+04</td>\n",
       "      <td>1.120500e+04</td>\n",
       "      <td>1.123200e+04</td>\n",
       "      <td>1.169300e+04</td>\n",
       "    </tr>\n",
       "    <tr>\n",
       "      <th>Current fulltime</th>\n",
       "      <td>446.0</td>\n",
       "      <td>1.241861e+02</td>\n",
       "      <td>3.927508e+02</td>\n",
       "      <td>0.000000e+00</td>\n",
       "      <td>1.100000e+01</td>\n",
       "      <td>2.800000e+01</td>\n",
       "      <td>7.600000e+01</td>\n",
       "      <td>3.878000e+03</td>\n",
       "    </tr>\n",
       "    <tr>\n",
       "      <th>Job created</th>\n",
       "      <td>11.0</td>\n",
       "      <td>1.354545e+01</td>\n",
       "      <td>1.640953e+01</td>\n",
       "      <td>2.000000e+00</td>\n",
       "      <td>4.000000e+00</td>\n",
       "      <td>1.000000e+01</td>\n",
       "      <td>1.350000e+01</td>\n",
       "      <td>6.000000e+01</td>\n",
       "    </tr>\n",
       "    <tr>\n",
       "      <th>Job retain</th>\n",
       "      <td>14.0</td>\n",
       "      <td>2.975000e+02</td>\n",
       "      <td>7.784047e+02</td>\n",
       "      <td>4.000000e+00</td>\n",
       "      <td>1.550000e+01</td>\n",
       "      <td>4.200000e+01</td>\n",
       "      <td>1.607500e+02</td>\n",
       "      <td>2.964000e+03</td>\n",
       "    </tr>\n",
       "    <tr>\n",
       "      <th>Total Savings</th>\n",
       "      <td>450.0</td>\n",
       "      <td>3.943778e+04</td>\n",
       "      <td>1.345949e+05</td>\n",
       "      <td>-1.099101e+05</td>\n",
       "      <td>1.770947e+03</td>\n",
       "      <td>6.101215e+03</td>\n",
       "      <td>2.025603e+04</td>\n",
       "      <td>1.568982e+06</td>\n",
       "    </tr>\n",
       "    <tr>\n",
       "      <th>Savings from beginning receiving benefits</th>\n",
       "      <td>450.0</td>\n",
       "      <td>4.234601e+05</td>\n",
       "      <td>1.936066e+06</td>\n",
       "      <td>0.000000e+00</td>\n",
       "      <td>1.498420e+04</td>\n",
       "      <td>5.431184e+04</td>\n",
       "      <td>2.003667e+05</td>\n",
       "      <td>3.351826e+07</td>\n",
       "    </tr>\n",
       "    <tr>\n",
       "      <th>Latitude</th>\n",
       "      <td>409.0</td>\n",
       "      <td>4.072229e+01</td>\n",
       "      <td>5.750312e-02</td>\n",
       "      <td>4.055508e+01</td>\n",
       "      <td>4.067635e+01</td>\n",
       "      <td>4.072114e+01</td>\n",
       "      <td>4.075210e+01</td>\n",
       "      <td>4.089084e+01</td>\n",
       "    </tr>\n",
       "    <tr>\n",
       "      <th>Longitude</th>\n",
       "      <td>409.0</td>\n",
       "      <td>-7.394238e+01</td>\n",
       "      <td>6.555326e-02</td>\n",
       "      <td>-7.421621e+01</td>\n",
       "      <td>-7.398484e+01</td>\n",
       "      <td>-7.394171e+01</td>\n",
       "      <td>-7.390935e+01</td>\n",
       "      <td>-7.374373e+01</td>\n",
       "    </tr>\n",
       "    <tr>\n",
       "      <th>Community Board</th>\n",
       "      <td>409.0</td>\n",
       "      <td>3.179829e+02</td>\n",
       "      <td>9.392575e+01</td>\n",
       "      <td>1.010000e+02</td>\n",
       "      <td>3.010000e+02</td>\n",
       "      <td>3.070000e+02</td>\n",
       "      <td>4.020000e+02</td>\n",
       "      <td>5.030000e+02</td>\n",
       "    </tr>\n",
       "    <tr>\n",
       "      <th>Council District</th>\n",
       "      <td>409.0</td>\n",
       "      <td>2.782396e+01</td>\n",
       "      <td>1.098432e+01</td>\n",
       "      <td>1.000000e+00</td>\n",
       "      <td>2.600000e+01</td>\n",
       "      <td>3.000000e+01</td>\n",
       "      <td>3.600000e+01</td>\n",
       "      <td>5.100000e+01</td>\n",
       "    </tr>\n",
       "    <tr>\n",
       "      <th>Census Tract</th>\n",
       "      <td>409.0</td>\n",
       "      <td>2.049081e+03</td>\n",
       "      <td>7.784675e+03</td>\n",
       "      <td>1.000000e+00</td>\n",
       "      <td>2.000000e+01</td>\n",
       "      <td>1.990000e+02</td>\n",
       "      <td>5.430000e+02</td>\n",
       "      <td>9.420100e+04</td>\n",
       "    </tr>\n",
       "    <tr>\n",
       "      <th>BIN</th>\n",
       "      <td>401.0</td>\n",
       "      <td>3.295894e+06</td>\n",
       "      <td>9.897776e+05</td>\n",
       "      <td>1.000811e+06</td>\n",
       "      <td>3.009889e+06</td>\n",
       "      <td>3.336903e+06</td>\n",
       "      <td>4.005076e+06</td>\n",
       "      <td>5.168823e+06</td>\n",
       "    </tr>\n",
       "    <tr>\n",
       "      <th>BBL</th>\n",
       "      <td>401.0</td>\n",
       "      <td>3.163398e+09</td>\n",
       "      <td>9.483943e+08</td>\n",
       "      <td>1.000220e+09</td>\n",
       "      <td>3.006320e+09</td>\n",
       "      <td>3.036760e+09</td>\n",
       "      <td>4.003930e+09</td>\n",
       "      <td>5.070670e+09</td>\n",
       "    </tr>\n",
       "  </tbody>\n",
       "</table>\n",
       "</div>"
      ],
      "text/plain": [
       "                                           count          mean           std  \\\n",
       "Postcode                                   450.0  1.102412e+04  4.051267e+02   \n",
       "Current fulltime                           446.0  1.241861e+02  3.927508e+02   \n",
       "Job created                                 11.0  1.354545e+01  1.640953e+01   \n",
       "Job retain                                  14.0  2.975000e+02  7.784047e+02   \n",
       "Total Savings                              450.0  3.943778e+04  1.345949e+05   \n",
       "Savings from beginning receiving benefits  450.0  4.234601e+05  1.936066e+06   \n",
       "Latitude                                   409.0  4.072229e+01  5.750312e-02   \n",
       "Longitude                                  409.0 -7.394238e+01  6.555326e-02   \n",
       "Community Board                            409.0  3.179829e+02  9.392575e+01   \n",
       "Council District                           409.0  2.782396e+01  1.098432e+01   \n",
       "Census Tract                               409.0  2.049081e+03  7.784675e+03   \n",
       "BIN                                        401.0  3.295894e+06  9.897776e+05   \n",
       "BBL                                        401.0  3.163398e+09  9.483943e+08   \n",
       "\n",
       "                                                    min           25%  \\\n",
       "Postcode                                   1.000100e+04  1.110100e+04   \n",
       "Current fulltime                           0.000000e+00  1.100000e+01   \n",
       "Job created                                2.000000e+00  4.000000e+00   \n",
       "Job retain                                 4.000000e+00  1.550000e+01   \n",
       "Total Savings                             -1.099101e+05  1.770947e+03   \n",
       "Savings from beginning receiving benefits  0.000000e+00  1.498420e+04   \n",
       "Latitude                                   4.055508e+01  4.067635e+01   \n",
       "Longitude                                 -7.421621e+01 -7.398484e+01   \n",
       "Community Board                            1.010000e+02  3.010000e+02   \n",
       "Council District                           1.000000e+00  2.600000e+01   \n",
       "Census Tract                               1.000000e+00  2.000000e+01   \n",
       "BIN                                        1.000811e+06  3.009889e+06   \n",
       "BBL                                        1.000220e+09  3.006320e+09   \n",
       "\n",
       "                                                    50%           75%  \\\n",
       "Postcode                                   1.120500e+04  1.123200e+04   \n",
       "Current fulltime                           2.800000e+01  7.600000e+01   \n",
       "Job created                                1.000000e+01  1.350000e+01   \n",
       "Job retain                                 4.200000e+01  1.607500e+02   \n",
       "Total Savings                              6.101215e+03  2.025603e+04   \n",
       "Savings from beginning receiving benefits  5.431184e+04  2.003667e+05   \n",
       "Latitude                                   4.072114e+01  4.075210e+01   \n",
       "Longitude                                 -7.394171e+01 -7.390935e+01   \n",
       "Community Board                            3.070000e+02  4.020000e+02   \n",
       "Council District                           3.000000e+01  3.600000e+01   \n",
       "Census Tract                               1.990000e+02  5.430000e+02   \n",
       "BIN                                        3.336903e+06  4.005076e+06   \n",
       "BBL                                        3.036760e+09  4.003930e+09   \n",
       "\n",
       "                                                    max  \n",
       "Postcode                                   1.169300e+04  \n",
       "Current fulltime                           3.878000e+03  \n",
       "Job created                                6.000000e+01  \n",
       "Job retain                                 2.964000e+03  \n",
       "Total Savings                              1.568982e+06  \n",
       "Savings from beginning receiving benefits  3.351826e+07  \n",
       "Latitude                                   4.089084e+01  \n",
       "Longitude                                 -7.374373e+01  \n",
       "Community Board                            5.030000e+02  \n",
       "Council District                           5.100000e+01  \n",
       "Census Tract                               9.420100e+04  \n",
       "BIN                                        5.168823e+06  \n",
       "BBL                                        5.070670e+09  "
      ]
     },
     "execution_count": 116,
     "metadata": {},
     "output_type": "execute_result"
    }
   ],
   "source": [
    "df.describe().T"
   ]
  },
  {
   "cell_type": "code",
   "execution_count": 117,
   "metadata": {},
   "outputs": [
    {
     "data": {
      "text/plain": [
       "439"
      ]
     },
     "execution_count": 117,
     "metadata": {},
     "output_type": "execute_result"
    }
   ],
   "source": [
    "# Number of different companies\n",
    "\n",
    "df['Company Name'].nunique()"
   ]
  },
  {
   "cell_type": "code",
   "execution_count": 118,
   "metadata": {},
   "outputs": [
    {
     "data": {
      "text/plain": [
       "Index(['Company Name', 'company contact', 'company email', 'company phone',\n",
       "       'Address', 'City', 'State', 'Postcode', 'Industry', 'Industry descr',\n",
       "       'Company Type', 'Current fulltime', 'Job created', 'Job retain',\n",
       "       'Effective Date', 'Total Savings',\n",
       "       'Savings from beginning receiving benefits', 'Borough', 'Latitude',\n",
       "       'Longitude', 'Community Board', 'Council District', 'Census Tract',\n",
       "       'BIN', 'BBL', 'NTA'],\n",
       "      dtype='object')"
      ]
     },
     "execution_count": 118,
     "metadata": {},
     "output_type": "execute_result"
    }
   ],
   "source": [
    "df.columns"
   ]
  },
  {
   "cell_type": "code",
   "execution_count": 119,
   "metadata": {},
   "outputs": [
    {
     "data": {
      "text/plain": [
       "102.0"
      ]
     },
     "execution_count": 119,
     "metadata": {},
     "output_type": "execute_result"
    }
   ],
   "source": [
    "# Total number of jobs created in Queens\n",
    "\n",
    "df.groupby(['Borough'])['Job created'].sum()['Queens']"
   ]
  },
  {
   "cell_type": "code",
   "execution_count": 120,
   "metadata": {},
   "outputs": [
    {
     "data": {
      "text/plain": [
       "356"
      ]
     },
     "execution_count": 120,
     "metadata": {},
     "output_type": "execute_result"
    }
   ],
   "source": [
    "# Total number of unique domain names\n",
    "\n",
    "df['domain'] = df[~df['company email'].isna()]['company email'].str.split('@').str[1]\n",
    "df['domain'].nunique()"
   ]
  },
  {
   "cell_type": "code",
   "execution_count": 121,
   "metadata": {},
   "outputs": [],
   "source": [
    "# Average total savings and the total jobs created for each NTA with at least 5 listed businesses\n",
    "\n",
    "df['NTA_split']=df['NTA'].str.split('-')\n",
    "df2 = df.explode('NTA_split').reset_index(drop=True)"
   ]
  },
  {
   "cell_type": "code",
   "execution_count": 122,
   "metadata": {},
   "outputs": [
    {
     "data": {
      "text/plain": [
       "838"
      ]
     },
     "execution_count": 122,
     "metadata": {},
     "output_type": "execute_result"
    }
   ],
   "source": [
    "df2.shape[0]"
   ]
  },
  {
   "cell_type": "code",
   "execution_count": 123,
   "metadata": {},
   "outputs": [
    {
     "data": {
      "text/plain": [
       "629"
      ]
     },
     "execution_count": 123,
     "metadata": {},
     "output_type": "execute_result"
    }
   ],
   "source": [
    "df2_ge_5 = df2.groupby(['NTA_split']).filter(lambda x: len(x) >= 5)\n",
    "df2_ge_5.shape[0]"
   ]
  },
  {
   "cell_type": "code",
   "execution_count": 124,
   "metadata": {},
   "outputs": [],
   "source": [
    "df_nta_final = df2_ge_5.groupby('NTA_split').agg({ \n",
    "    'Total Savings': 'mean',\n",
    "    'Job created': 'sum',\n",
    "})"
   ]
  },
  {
   "cell_type": "code",
   "execution_count": 125,
   "metadata": {},
   "outputs": [
    {
     "data": {
      "text/html": [
       "<div>\n",
       "<style scoped>\n",
       "    .dataframe tbody tr th:only-of-type {\n",
       "        vertical-align: middle;\n",
       "    }\n",
       "\n",
       "    .dataframe tbody tr th {\n",
       "        vertical-align: top;\n",
       "    }\n",
       "\n",
       "    .dataframe thead th {\n",
       "        text-align: right;\n",
       "    }\n",
       "</style>\n",
       "<table border=\"1\" class=\"dataframe\">\n",
       "  <thead>\n",
       "    <tr style=\"text-align: right;\">\n",
       "      <th></th>\n",
       "      <th>Total Savings</th>\n",
       "      <th>Job created</th>\n",
       "    </tr>\n",
       "    <tr>\n",
       "      <th>NTA_split</th>\n",
       "      <th></th>\n",
       "      <th></th>\n",
       "    </tr>\n",
       "  </thead>\n",
       "  <tbody>\n",
       "    <tr>\n",
       "      <th>Battery Park City</th>\n",
       "      <td>469890.796667</td>\n",
       "      <td>0.0</td>\n",
       "    </tr>\n",
       "    <tr>\n",
       "      <th>Boerum Hill</th>\n",
       "      <td>59950.340000</td>\n",
       "      <td>0.0</td>\n",
       "    </tr>\n",
       "    <tr>\n",
       "      <th>Brooklyn</th>\n",
       "      <td>14327.419333</td>\n",
       "      <td>0.0</td>\n",
       "    </tr>\n",
       "    <tr>\n",
       "      <th>Brookville</th>\n",
       "      <td>17757.662000</td>\n",
       "      <td>0.0</td>\n",
       "    </tr>\n",
       "    <tr>\n",
       "      <th>Bushwick South</th>\n",
       "      <td>26140.455000</td>\n",
       "      <td>10.0</td>\n",
       "    </tr>\n",
       "    <tr>\n",
       "      <th>Carroll Gardens</th>\n",
       "      <td>24337.390000</td>\n",
       "      <td>0.0</td>\n",
       "    </tr>\n",
       "    <tr>\n",
       "      <th>Civic Center</th>\n",
       "      <td>37214.024000</td>\n",
       "      <td>0.0</td>\n",
       "    </tr>\n",
       "    <tr>\n",
       "      <th>College Point</th>\n",
       "      <td>17159.372857</td>\n",
       "      <td>2.0</td>\n",
       "    </tr>\n",
       "    <tr>\n",
       "      <th>Columbia Street</th>\n",
       "      <td>24337.390000</td>\n",
       "      <td>0.0</td>\n",
       "    </tr>\n",
       "    <tr>\n",
       "      <th>Crown Heights North</th>\n",
       "      <td>4036.298889</td>\n",
       "      <td>0.0</td>\n",
       "    </tr>\n",
       "    <tr>\n",
       "      <th>DUMBO</th>\n",
       "      <td>59950.340000</td>\n",
       "      <td>0.0</td>\n",
       "    </tr>\n",
       "    <tr>\n",
       "      <th>Downtown Brooklyn</th>\n",
       "      <td>59950.340000</td>\n",
       "      <td>0.0</td>\n",
       "    </tr>\n",
       "    <tr>\n",
       "      <th>East New York</th>\n",
       "      <td>48433.093333</td>\n",
       "      <td>15.0</td>\n",
       "    </tr>\n",
       "    <tr>\n",
       "      <th>East Williamsburg</th>\n",
       "      <td>13990.626364</td>\n",
       "      <td>0.0</td>\n",
       "    </tr>\n",
       "    <tr>\n",
       "      <th>Greenpoint</th>\n",
       "      <td>9753.649286</td>\n",
       "      <td>0.0</td>\n",
       "    </tr>\n",
       "    <tr>\n",
       "      <th>Hunters Point</th>\n",
       "      <td>23931.398933</td>\n",
       "      <td>0.0</td>\n",
       "    </tr>\n",
       "    <tr>\n",
       "      <th>Hunts Point</th>\n",
       "      <td>39246.016154</td>\n",
       "      <td>12.0</td>\n",
       "    </tr>\n",
       "    <tr>\n",
       "      <th>Little Italy</th>\n",
       "      <td>37214.024000</td>\n",
       "      <td>0.0</td>\n",
       "    </tr>\n",
       "    <tr>\n",
       "      <th>Long Island City</th>\n",
       "      <td>61830.770625</td>\n",
       "      <td>0.0</td>\n",
       "    </tr>\n",
       "    <tr>\n",
       "      <th>Lower Manhattan</th>\n",
       "      <td>469890.796667</td>\n",
       "      <td>0.0</td>\n",
       "    </tr>\n",
       "    <tr>\n",
       "      <th>Manhattanville</th>\n",
       "      <td>2760.888889</td>\n",
       "      <td>0.0</td>\n",
       "    </tr>\n",
       "    <tr>\n",
       "      <th>Maspeth</th>\n",
       "      <td>7828.552000</td>\n",
       "      <td>10.0</td>\n",
       "    </tr>\n",
       "    <tr>\n",
       "      <th>Mott Haven</th>\n",
       "      <td>17843.937857</td>\n",
       "      <td>10.0</td>\n",
       "    </tr>\n",
       "    <tr>\n",
       "      <th>Port Morris</th>\n",
       "      <td>17843.937857</td>\n",
       "      <td>10.0</td>\n",
       "    </tr>\n",
       "    <tr>\n",
       "      <th>Queensbridge</th>\n",
       "      <td>61830.770625</td>\n",
       "      <td>0.0</td>\n",
       "    </tr>\n",
       "    <tr>\n",
       "      <th>Ravenswood</th>\n",
       "      <td>61830.770625</td>\n",
       "      <td>0.0</td>\n",
       "    </tr>\n",
       "    <tr>\n",
       "      <th>Red Hook</th>\n",
       "      <td>24337.390000</td>\n",
       "      <td>0.0</td>\n",
       "    </tr>\n",
       "    <tr>\n",
       "      <th>SoHo</th>\n",
       "      <td>37214.024000</td>\n",
       "      <td>0.0</td>\n",
       "    </tr>\n",
       "    <tr>\n",
       "      <th>Springfield Gardens South</th>\n",
       "      <td>17757.662000</td>\n",
       "      <td>0.0</td>\n",
       "    </tr>\n",
       "    <tr>\n",
       "      <th>Steinway</th>\n",
       "      <td>11227.155714</td>\n",
       "      <td>20.0</td>\n",
       "    </tr>\n",
       "    <tr>\n",
       "      <th>Sunnyside</th>\n",
       "      <td>23931.398933</td>\n",
       "      <td>0.0</td>\n",
       "    </tr>\n",
       "    <tr>\n",
       "      <th>Sunset Park West</th>\n",
       "      <td>14316.976875</td>\n",
       "      <td>0.0</td>\n",
       "    </tr>\n",
       "    <tr>\n",
       "      <th>TriBeCa</th>\n",
       "      <td>37214.024000</td>\n",
       "      <td>0.0</td>\n",
       "    </tr>\n",
       "    <tr>\n",
       "      <th>Vinegar Hill</th>\n",
       "      <td>59950.340000</td>\n",
       "      <td>0.0</td>\n",
       "    </tr>\n",
       "    <tr>\n",
       "      <th>West Maspeth</th>\n",
       "      <td>23931.398933</td>\n",
       "      <td>0.0</td>\n",
       "    </tr>\n",
       "    <tr>\n",
       "      <th>cemetery</th>\n",
       "      <td>14327.419333</td>\n",
       "      <td>0.0</td>\n",
       "    </tr>\n",
       "    <tr>\n",
       "      <th>etc</th>\n",
       "      <td>14327.419333</td>\n",
       "      <td>0.0</td>\n",
       "    </tr>\n",
       "    <tr>\n",
       "      <th>park</th>\n",
       "      <td>14327.419333</td>\n",
       "      <td>0.0</td>\n",
       "    </tr>\n",
       "  </tbody>\n",
       "</table>\n",
       "</div>"
      ],
      "text/plain": [
       "                           Total Savings  Job created\n",
       "NTA_split                                            \n",
       "Battery Park City          469890.796667          0.0\n",
       "Boerum Hill                 59950.340000          0.0\n",
       "Brooklyn                    14327.419333          0.0\n",
       "Brookville                  17757.662000          0.0\n",
       "Bushwick South              26140.455000         10.0\n",
       "Carroll Gardens             24337.390000          0.0\n",
       "Civic Center                37214.024000          0.0\n",
       "College Point               17159.372857          2.0\n",
       "Columbia Street             24337.390000          0.0\n",
       "Crown Heights North          4036.298889          0.0\n",
       "DUMBO                       59950.340000          0.0\n",
       "Downtown Brooklyn           59950.340000          0.0\n",
       "East New York               48433.093333         15.0\n",
       "East Williamsburg           13990.626364          0.0\n",
       "Greenpoint                   9753.649286          0.0\n",
       "Hunters Point               23931.398933          0.0\n",
       "Hunts Point                 39246.016154         12.0\n",
       "Little Italy                37214.024000          0.0\n",
       "Long Island City            61830.770625          0.0\n",
       "Lower Manhattan            469890.796667          0.0\n",
       "Manhattanville               2760.888889          0.0\n",
       "Maspeth                      7828.552000         10.0\n",
       "Mott Haven                  17843.937857         10.0\n",
       "Port Morris                 17843.937857         10.0\n",
       "Queensbridge                61830.770625          0.0\n",
       "Ravenswood                  61830.770625          0.0\n",
       "Red Hook                    24337.390000          0.0\n",
       "SoHo                        37214.024000          0.0\n",
       "Springfield Gardens South   17757.662000          0.0\n",
       "Steinway                    11227.155714         20.0\n",
       "Sunnyside                   23931.398933          0.0\n",
       "Sunset Park West            14316.976875          0.0\n",
       "TriBeCa                     37214.024000          0.0\n",
       "Vinegar Hill                59950.340000          0.0\n",
       "West Maspeth                23931.398933          0.0\n",
       "cemetery                    14327.419333          0.0\n",
       "etc                         14327.419333          0.0\n",
       "park                        14327.419333          0.0"
      ]
     },
     "execution_count": 125,
     "metadata": {},
     "output_type": "execute_result"
    }
   ],
   "source": [
    "df_nta_final"
   ]
  },
  {
   "cell_type": "code",
   "execution_count": 126,
   "metadata": {},
   "outputs": [],
   "source": [
    "df_nta_final.to_csv('data/nta_savings_jobs.csv')"
   ]
  },
  {
   "cell_type": "code",
   "execution_count": null,
   "metadata": {},
   "outputs": [],
   "source": []
  },
  {
   "cell_type": "markdown",
   "metadata": {},
   "source": [
    "### DAY 5: Matplotlib Tasks"
   ]
  },
  {
   "cell_type": "code",
   "execution_count": null,
   "metadata": {},
   "outputs": [],
   "source": []
  },
  {
   "cell_type": "code",
   "execution_count": 127,
   "metadata": {},
   "outputs": [
    {
     "data": {
      "image/png": "[encoded data removed]",
      "text/plain": [
       "<Figure size 432x288 with 1 Axes>"
      ]
     },
     "metadata": {
      "needs_background": "light"
     },
     "output_type": "display_data"
    }
   ],
   "source": [
    "# Scatter plot of jobs created versus average savings\n",
    "\n",
    "plt.scatter(df_nta_final['Total Savings'], df_nta_final['Job created'])\n",
    "plt.xlabel('Average Total Savings')\n",
    "plt.ylabel('Jobs Created');"
   ]
  },
  {
   "cell_type": "code",
   "execution_count": 128,
   "metadata": {},
   "outputs": [
    {
     "data": {
      "image/png": "[encoded data removed]",
      "text/plain": [
       "<Figure size 432x288 with 1 Axes>"
      ]
     },
     "metadata": {
      "needs_background": "light"
     },
     "output_type": "display_data"
    }
   ],
   "source": [
    "#  Scatter plot of jobs created versus LOG average savings\n",
    "\n",
    "plt.scatter(df_nta_final['Total Savings'], df_nta_final['Job created'])\n",
    "plt.xlabel('Average Total Savings (log)')\n",
    "plt.ylabel('Jobs Created');\n",
    "plt.xscale('log')"
   ]
  },
  {
   "cell_type": "code",
   "execution_count": 129,
   "metadata": {},
   "outputs": [
    {
     "data": {
      "text/plain": [
       "(array([ 2.,  0.,  3., 11.,  7., 10.,  3.,  0.,  0.,  2.]),\n",
       " array([ 7.92330797,  8.43700273,  8.95069749,  9.46439226,  9.97808702,\n",
       "        10.49178178, 11.00547655, 11.51917131, 12.03286607, 12.54656084,\n",
       "        13.0602556 ]),\n",
       " <BarContainer object of 10 artists>)"
      ]
     },
     "execution_count": 129,
     "metadata": {},
     "output_type": "execute_result"
    },
    {
     "data": {
      "image/png": "[encoded data removed]",
      "text/plain": [
       "<Figure size 432x288 with 1 Axes>"
      ]
     },
     "metadata": {
      "needs_background": "light"
     },
     "output_type": "display_data"
    }
   ],
   "source": [
    "# Histogram of the log of the average total savings\n",
    "\n",
    "plt.hist(np.log(df_nta_final['Total Savings']), bins=10)"
   ]
  },
  {
   "cell_type": "code",
   "execution_count": 130,
   "metadata": {},
   "outputs": [],
   "source": [
    "# Line plot of the total jobs created for each month\n",
    "\n",
    "df['Effective Date'] = pd.to_datetime(df['Effective Date'])\n",
    "df['Effective Month'] = df['Effective Date'].dt.month"
   ]
  },
  {
   "cell_type": "code",
   "execution_count": 131,
   "metadata": {},
   "outputs": [],
   "source": [
    "df_month_jobs = df.groupby(['Effective Month'])['Job created'].sum()"
   ]
  },
  {
   "cell_type": "code",
   "execution_count": 132,
   "metadata": {},
   "outputs": [
    {
     "data": {
      "image/png": "[encoded data removed]",
      "text/plain": [
       "<Figure size 432x288 with 1 Axes>"
      ]
     },
     "metadata": {
      "needs_background": "light"
     },
     "output_type": "display_data"
    }
   ],
   "source": [
    "plt.plot(df_month_jobs.index,df_month_jobs.values)\n",
    "plt.xlabel('Effective Month')\n",
    "plt.ylabel('Jobs Created');"
   ]
  },
  {
   "cell_type": "code",
   "execution_count": null,
   "metadata": {},
   "outputs": [],
   "source": []
  }
 ],
 "metadata": {
  "kernelspec": {
   "display_name": "Python 3.8.10 64-bit",
   "language": "python",
   "name": "python3"
  },
  "language_info": {
   "codemirror_mode": {
    "name": "ipython",
    "version": 3
   },
   "file_extension": ".py",
   "mimetype": "text/x-python",
   "name": "python",
   "nbconvert_exporter": "python",
   "pygments_lexer": "ipython3",
   "version": "3.8.10"
  },
  "orig_nbformat": 4,
  "vscode": {
   "interpreter": {
    "hash": "916dbcbb3f70747c44a77c7bcd40155683ae19c65e1c03b4aa3499c5328201f1"
   }
  }
 },
 "nbformat": 4,
 "nbformat_minor": 2
}
